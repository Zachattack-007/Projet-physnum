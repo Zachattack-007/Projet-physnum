{
 "cells": [
  {
   "cell_type": "code",
   "execution_count": 60,
   "id": "e5b0c2c1",
   "metadata": {},
   "outputs": [],
   "source": [
    "import numpy as np\n",
    "from scipy.interpolate import CubicSpline\n",
    "import matplotlib.pyplot as plt"
   ]
  },
  {
   "cell_type": "markdown",
   "id": "ff3c189c",
   "metadata": {},
   "source": [
    "# Méthode de la bissection #"
   ]
  },
  {
   "cell_type": "code",
   "execution_count": 25,
   "id": "3d0bb557",
   "metadata": {},
   "outputs": [],
   "source": [
    "def bisection_method(a, b, f, tol=1e-5, max_iter=1000):\n",
    "    if f(a) * f(b) >= 0:\n",
    "        raise ValueError(\"f(a) et f(b) doivent avoir des signes opposés\")\n",
    "\n",
    "    for i in range(max_iter):\n",
    "        m = (a + b) / 2\n",
    "        if abs(f(m)) < tol or (b - a) / 2 < tol:\n",
    "            return m\n",
    "        if f(m) * f(a) < 0:\n",
    "            b = m\n",
    "        else:\n",
    "            a = m\n",
    "\n",
    "    raise RuntimeError(\"Nombre d'itérations maximum atteint sans convergence\")\n",
    "\n",
    "    "
   ]
  },
  {
   "cell_type": "markdown",
   "id": "07f479ed",
   "metadata": {},
   "source": [
    "# Méthode de Brent #"
   ]
  },
  {
   "cell_type": "code",
   "execution_count": 46,
   "id": "7e3879d4",
   "metadata": {},
   "outputs": [],
   "source": [
    "def methode_brent(f, intervalle, tolerance):\n",
    "    x = np.array(intervalle)\n",
    "    y = np.array([f(x[0]), f(x[1])])\n",
    "\n",
    "    if np.sum(np.sign(y)) != 0:\n",
    "        raise Exception(\"Les valeurs aux bornes choisies ne sont pas de signes opposés\")\n",
    "    \n",
    "    # Échange a et b, car b doit représenté la meilleur approximation de la racine\n",
    "    if abs(y[0]) < abs(y[1]):\n",
    "        x = x[::-1]\n",
    "        y = y[::-1]\n",
    "\n",
    "    # Définition variables\n",
    "    a = x[0]\n",
    "    b = c = x[1]\n",
    "    fa = y[0]\n",
    "    fb = fc = y[1]\n",
    "    d = 0\n",
    "    # Paramètre déterminant si la méthode de dichotomie ou d'interpolation a été retenue précédemment\n",
    "    dicho = True\n",
    "\n",
    "    while abs(fb) > tolerance and np.abs(b-a)> tolerance:\n",
    "        # Calcul de s avec interpolation quadratique inverse ou avec méthode des sécantes\n",
    "        if fa != fb and fa != fc and fb != fc:\n",
    "            s = (a*fb*fc)/((fa-fb)*(fa-fc)) + (b*fa*fc)/((fb-fa)*(fb-fc)) + (c*fa*fb)/((fc-fa)*(fc-fb)) \n",
    "        else:\n",
    "            s = b - fb * ((b-a)/(fb-fa))\n",
    "         \n",
    "        # Conditions pour utilisé le point milieu calculé avec la méthode de dichotomie plutôt que s calculé avec l'interpolation\n",
    "        # Certaines conditions dépendent de la méthode utilisée à l'itération précedente soit le paramètre dicho\n",
    "        cond1 = (s - (3*a + b)/4)*(s - b) >= 0\n",
    "        cond2 = dicho and abs(s - b) >= 0.5*abs(b - c)\n",
    "        cond3 = not dicho and abs(s - b) >= 0.5*abs(c - d)\n",
    "        \n",
    "        if cond1 or cond2 or cond3:\n",
    "            s = (a + b)/2\n",
    "            dicho = True\n",
    "        else:\n",
    "            dicho = False\n",
    "\n",
    "        # Modification variable pour prochaine itération\n",
    "        d = c\n",
    "        c = b\n",
    "        fc = fb\n",
    "        \n",
    "        # Choix du nouveau contrepoint afin que f(a+1) et f(b+1) soient de signes opposés\n",
    "        fs = f(s)\n",
    "        if fa*fs < 0:\n",
    "            b = s\n",
    "            fb = fs\n",
    "        else:\n",
    "            a = s\n",
    "            fa = fs\n",
    "        \n",
    "        # S'assure que b est la meilleur approximation de la racine\n",
    "        if abs(fa) < abs(fb):\n",
    "            a, b = b, a\n",
    "            fa, fb = fb, fa\n",
    "\n",
    "    return b"
   ]
  },
  {
   "cell_type": "code",
   "execution_count": 57,
   "id": "3676bc9d",
   "metadata": {},
   "outputs": [
    {
     "name": "stdout",
     "output_type": "stream",
     "text": [
      "1.521379706804822\n",
      "1.5213797032833103\n"
     ]
    }
   ],
   "source": [
    "def f(x):\n",
    "    return x**3 - x - 2\n",
    "\n",
    "# Test de la méthode sur [1, 2] avec une tolérance de 1e-8\n",
    "racine_approx = methode_brent(f, (1, 2), 1e-8)\n",
    "a = bisection_method(1.4, 1.6, f, tol=1e-8)\n",
    "print(racine_approx)\n",
    "print(a)"
   ]
  },
  {
   "cell_type": "code",
   "execution_count": 74,
   "id": "4608004a",
   "metadata": {},
   "outputs": [
    {
     "name": "stdout",
     "output_type": "stream",
     "text": [
      "[-2.15 -1.42 -1.29 -0.2   0.1   0.14  0.82  1.1   1.5   2.85  3.8 ]\n",
      "[1.23350e-02 1.22439e-01 1.83396e-01 9.62973e-01 9.92804e-01 9.77224e-01\n",
      " 5.23455e-01 2.93345e-01 1.05332e-01 3.94000e-04 1.40000e-06]\n",
      "<scipy.interpolate._cubic.CubicSpline object at 0x000002603C68DC10>\n"
     ]
    },
    {
     "data": {
      "image/png": "[encoded data removed]",
      "text/plain": [
       "<Figure size 640x480 with 1 Axes>"
      ]
     },
     "metadata": {},
     "output_type": "display_data"
    }
   ],
   "source": [
    "x = np.array([-2.15, -1.42, -1.29, -0.2, 0.1, 0.14, 0.82, 1.1, 1.5, 2.85, 3.8])\n",
    "y = np.array([0.012335, 0.122439, 0.183396, 0.962973, 0.992804, 0.977224, 0.523455, 0.293345, 0.105332, 0.000394, 0.0000014])\n",
    "\n",
    "x_interp = np.linspace(np.min(x)-1.5, np.max(x)+1, 200)\n",
    "# Spline naturelle: bc_type=\"natural\"\n",
    "print(x)\n",
    "print(y)\n",
    "cubic_spline = CubicSpline(x, y, bc_type=\"natural\")\n",
    "print(cubic_spline)\n",
    "plt.plot(x_interp, cubic_spline(x_interp))\n",
    "plt.show()"
   ]
  }
 ],
 "metadata": {
  "kernelspec": {
   "display_name": "Python 3",
   "language": "python",
   "name": "python3"
  },
  "language_info": {
   "codemirror_mode": {
    "name": "ipython",
    "version": 3
   },
   "file_extension": ".py",
   "mimetype": "text/x-python",
   "name": "python",
   "nbconvert_exporter": "python",
   "pygments_lexer": "ipython3",
   "version": "3.11.9"
  }
 },
 "nbformat": 4,
 "nbformat_minor": 5
}
