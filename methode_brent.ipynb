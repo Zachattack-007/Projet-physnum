{
 "cells": [
  {
   "cell_type": "code",
   "execution_count": 1,
   "id": "e5b0c2c1",
   "metadata": {},
   "outputs": [],
   "source": [
    "import numpy as np"
   ]
  },
  {
   "cell_type": "markdown",
   "id": "ff3c189c",
   "metadata": {},
   "source": [
    "# Méthode de la bissection #"
   ]
  },
  {
   "cell_type": "code",
   "execution_count": null,
   "id": "3d0bb557",
   "metadata": {},
   "outputs": [],
   "source": [
    "def bisection_method(a, b, f, tol=1e-5, max_iter=1000):\n",
    "    if f(a) * f(b) >= 0:\n",
    "        raise ValueError(\"f(a) et f(b) doivent avoir des signes opposés\")\n",
    "\n",
    "    for i in range(max_iter):\n",
    "        m = (a + b) / 2\n",
    "        if abs(f(m)) < tol or (b - a) / 2 < tol:\n",
    "            return m\n",
    "        if f(m) * f(a) < 0:\n",
    "            b = m\n",
    "        else:\n",
    "            a = m\n",
    "\n",
    "    raise RuntimeError(\"Nombre d'itérations maximum atteint sans convergence\")\n",
    "\n",
    "    "
   ]
  },
  {
   "cell_type": "markdown",
   "id": "07f479ed",
   "metadata": {},
   "source": [
    "# Méthode de Brent #"
   ]
  },
  {
   "cell_type": "code",
   "execution_count": null,
   "id": "7e3879d4",
   "metadata": {},
   "outputs": [],
   "source": [
    "def methode_brent(f, intervalle:tuple, tolerance):\n",
    "    x = np.array(intervalle)\n",
    "    y = np.array([f(x[0]), f(x[1])])\n",
    "    if np.sum(np.sign(y)) != 0:\n",
    "        raise Exception(\"Les valeurs aux bornes choisies ne sont pas de signes opposés\")\n",
    "    \n",
    "    # Échange a et b, car b doit représenté la meilleur approximation de la racine\n",
    "    elif np.abs(y[0]) < np.abs(y[1]):\n",
    "        x = np.array([x[1], x[0]])\n",
    "        y = np.array([y[1], y[0]])\n",
    "\n",
    "    # Définition variables\n",
    "    a = x[0]\n",
    "    b = c = x[1]\n",
    "    fa = y[0]\n",
    "    fb = fc = y[1]\n",
    "    # Paramètre déterminant si la méthode de dichotomie ou d'interpolation a été retenue précédemment\n",
    "    dicho = True\n",
    "\n",
    "    while fb != 0 or np.abs(b-a)> tolerance:\n",
    "        # Calcul de s avec interpolation quadratique inverse ou avec méthode des sécantes\n",
    "        if fa != fb and fa != fc and fb != fc:\n",
    "            s = (a*fb*fc)/((fa-fb)*(fa-fc)) + (b*fa*fc)/((fb-fa)*(fb-fc)) + (c*fa*fb)/((fc-fa)*(fc-fb)) \n",
    "        else:\n",
    "            s = b - fb * ((b-a)/(fb-fa))\n",
    "         \n",
    "        # Conditions pour utilisé le point milieu calculé avec la méthode de dichotomie plutôt que s calculé avec l'interpolation\n",
    "        # Certaines conditions dépendent de la méthode utilisée à l'itération précedente soit le paramètre dicho\n",
    "        cond1 = (s-(3*a+b)/4)*(s-b) >= 0\n",
    "        cond2 = dicho and abs(s-b) >= 0.5*abs(b-c)\n",
    "        cond3 = not dicho and abs(s-b) >= 0.5*abs(c-d)\n",
    "        \n",
    "        if cond1 or cond2 or cond3:\n",
    "            s = (a+b)/2\n",
    "            dicho = True\n",
    "        else:\n",
    "            dicho = False\n",
    "        \n",
    "        # Choix du nouveau contrepoint afin que f(a+1) et f(b+1) soient de signes opposés\n",
    "        fs = f(s)\n",
    "        if fa*fs < 0:\n",
    "            b = s\n",
    "        else:\n",
    "            a = s\n",
    "\n",
    "        # Modification variable pour prochaine itération\n",
    "        d = c\n",
    "        c = b\n",
    "        \n",
    "        # S'assure que b est la meilleur approximation de la racine\n",
    "        x_bornes = np.array([a, b])\n",
    "        y_bornes = np.array([f(a), f(b)])\n",
    "        if abs(y_bornes[0]) < abs(y_bornes[1]):\n",
    "            x_bornes = np.array([x_bornes[1], x_bornes[0]])\n",
    "            y_bornes = np.array([y_bornes[1], y_bornes[0]])\n",
    "        a = x_bornes[0]\n",
    "        b = x_bornes[1]\n",
    "        fa = y_bornes[0]\n",
    "        fb = y_bornes[1]\n",
    "\n",
    "    return b"
   ]
  }
 ],
 "metadata": {
  "kernelspec": {
   "display_name": "Python 3",
   "language": "python",
   "name": "python3"
  },
  "language_info": {
   "codemirror_mode": {
    "name": "ipython",
    "version": 3
   },
   "file_extension": ".py",
   "mimetype": "text/x-python",
   "name": "python",
   "nbconvert_exporter": "python",
   "pygments_lexer": "ipython3",
   "version": "3.11.9"
  }
 },
 "nbformat": 4,
 "nbformat_minor": 5
}
